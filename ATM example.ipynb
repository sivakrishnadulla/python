{
 "cells": [
  {
   "cell_type": "code",
   "execution_count": 4,
   "id": "080e0617",
   "metadata": {},
   "outputs": [
    {
     "name": "stdout",
     "output_type": "stream",
     "text": [
      "Welcome to SBI\n",
      "Enter your Name:Siva\n",
      "d-Deposit\n",
      " w-Withdraw\n",
      " e-exit\n",
      "Enter your option:d\n",
      "Enter amount:15000\n",
      "Balance after deposit: 15000.0\n",
      "d-Deposit\n",
      " w-Withdraw\n",
      " e-exit\n",
      "Enter your option:w\n",
      "Enter amount:10000\n",
      "Balance after withdraw:  5000.0\n",
      "d-Deposit\n",
      " w-Withdraw\n",
      " e-exit\n",
      "Enter your option:d\n",
      "Enter amount:15000\n",
      "Balance after deposit: 20000.0\n",
      "d-Deposit\n",
      " w-Withdraw\n",
      " e-exit\n",
      "Enter your option:w\n",
      "Enter amount:1000\n",
      "Balance after withdraw:  19000.0\n",
      "d-Deposit\n",
      " w-Withdraw\n",
      " e-exit\n",
      "Enter your option:s\n",
      "Invalid option... Please choose correct option\n",
      "d-Deposit\n",
      " w-Withdraw\n",
      " e-exit\n",
      "Enter your option:e\n",
      "Thank you for Banking\n"
     ]
    },
    {
     "ename": "SystemExit",
     "evalue": "",
     "output_type": "error",
     "traceback": [
      "An exception has occurred, use %tb to see the full traceback.\n",
      "\u001b[1;31mSystemExit\u001b[0m\n"
     ]
    }
   ],
   "source": [
    "import sys\n",
    "class Customer:\n",
    "    \"\"\"Customer class with bank operations\"\"\"\n",
    "    bankname = 'SBI'\n",
    "    \n",
    "    def __init__(self,name,balance=0.0):\n",
    "        self.name = name\n",
    "        self.balance = balance\n",
    "        \n",
    "    def Deposit(self,amount):\n",
    "        self.balance = self.balance + amount\n",
    "        print('Balance after deposit:',self.balance)\n",
    "        \n",
    "    def Withdraw(self,amount):\n",
    "        if amount>self.balance:\n",
    "            print('Insufficient Funds in your account... cannot perform action')\n",
    "            sys.exit()\n",
    "        self.balance = self.balance-amount\n",
    "        print('Balance after withdraw: ',self.balance)\n",
    "    \n",
    "print(\"Welcome to\",Customer.bankname)\n",
    "name = input('Enter your Name:')\n",
    "c = Customer(name)\n",
    "while True:\n",
    "    print(\"d-Deposit\\n w-Withdraw\\n e-exit\")\n",
    "    option = input('Enter your option:')\n",
    "    \n",
    "    if option == 'd' or option == 'D':\n",
    "        amount = float(input('Enter amount:'))\n",
    "        c.Deposit(amount)\n",
    "    elif option == 'w' or option == 'W':\n",
    "        amount = float(input('Enter amount:'))\n",
    "        c.Withdraw(amount)\n",
    "    elif option == 'e' or option == 'E':\n",
    "        print(\"Thank you for Banking\")\n",
    "        sys.exit()\n",
    "        \n",
    "    else:\n",
    "        print('Invalid option... Please choose correct option')\n",
    "        \n",
    "        \n",
    "        "
   ]
  },
  {
   "cell_type": "code",
   "execution_count": null,
   "id": "33a24977",
   "metadata": {},
   "outputs": [],
   "source": []
  },
  {
   "cell_type": "code",
   "execution_count": null,
   "id": "1751f248",
   "metadata": {},
   "outputs": [],
   "source": []
  }
 ],
 "metadata": {
  "kernelspec": {
   "display_name": "Python 3",
   "language": "python",
   "name": "python3"
  },
  "language_info": {
   "codemirror_mode": {
    "name": "ipython",
    "version": 3
   },
   "file_extension": ".py",
   "mimetype": "text/x-python",
   "name": "python",
   "nbconvert_exporter": "python",
   "pygments_lexer": "ipython3",
   "version": "3.8.8"
  }
 },
 "nbformat": 4,
 "nbformat_minor": 5
}
