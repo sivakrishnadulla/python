{
 "cells": [
  {
   "cell_type": "markdown",
   "id": "4605dc1d",
   "metadata": {},
   "source": [
    "# class: \n",
    "it means model or plan or blueprint.\n",
    "1.we can write a class to represent properties(attributes or variables) and actions(methods) of object.\n"
   ]
  },
  {
   "cell_type": "code",
   "execution_count": null,
   "id": "32520a14",
   "metadata": {},
   "outputs": [],
   "source": [
    "#syntax==>\n",
    "\n",
    "'''\n",
    "class className:\n",
    "    '' documentation string''\n",
    "variables: instance,static,local\n",
    "methods: instance,static,class methods.\n",
    "'''"
   ]
  },
  {
   "cell_type": "code",
   "execution_count": null,
   "id": "0acb2f04",
   "metadata": {},
   "outputs": [],
   "source": [
    "#Documentation string represents descriptio of the class.\n",
    "1. print(classname.__doc__)\n",
    "2.help(classaname)"
   ]
  },
  {
   "cell_type": "code",
   "execution_count": 2,
   "id": "6b61d5af",
   "metadata": {},
   "outputs": [
    {
     "name": "stdout",
     "output_type": "stream",
     "text": [
      "This is student class with required data\n",
      "Help on class Student in module __main__:\n",
      "\n",
      "class Student(builtins.object)\n",
      " |  This is student class with required data\n",
      " |  \n",
      " |  Data descriptors defined here:\n",
      " |  \n",
      " |  __dict__\n",
      " |      dictionary for instance variables (if defined)\n",
      " |  \n",
      " |  __weakref__\n",
      " |      list of weak references to the object (if defined)\n",
      "\n"
     ]
    }
   ],
   "source": [
    "class Student:\n",
    "    '''This is student class with required data'''\n",
    "    \n",
    "print(Student.__doc__)\n",
    "\n",
    "help(Student)"
   ]
  },
  {
   "cell_type": "markdown",
   "id": "518d68ba",
   "metadata": {},
   "source": [
    "# Object:\n",
    "Physical existance of a class is called object.\n",
    "we can create any number of objects.\n",
    "\n",
    "referencevariable = classname()"
   ]
  },
  {
   "cell_type": "code",
   "execution_count": 3,
   "id": "b8ac6f93",
   "metadata": {},
   "outputs": [
    {
     "name": "stdout",
     "output_type": "stream",
     "text": [
      "my Name is:  Karthik\n",
      "my roll number is:  23\n",
      "my marks are:  92\n",
      "my Name is:  Suma\n",
      "my roll number is:  17\n",
      "my marks are:  85\n"
     ]
    }
   ],
   "source": [
    "#example1: using constructor and instance variables \n",
    "\n",
    "class Student:\n",
    "    \n",
    "    def __init__(self,name,rollno,marks):\n",
    "        self.name = name\n",
    "        self.rollno = rollno\n",
    "        self.marks = marks\n",
    "        \n",
    "    def Details(self):\n",
    "        print('my Name is: ',self.name)\n",
    "        print('my roll number is: ',self.rollno)\n",
    "        print('my marks are: ',self.marks)\n",
    "        \n",
    "s1 = Student('Karthik',23,92)\n",
    "s1.Details()\n",
    "s2 = Student('Suma',17,85)\n",
    "s2.Details()"
   ]
  },
  {
   "cell_type": "code",
   "execution_count": 4,
   "id": "c362e5f0",
   "metadata": {},
   "outputs": [
    {
     "name": "stdout",
     "output_type": "stream",
     "text": [
      "Constructor execution\n",
      "Constructor execution\n",
      "Constructor execution\n",
      "methods execution\n"
     ]
    }
   ],
   "source": [
    "# constructor is a spcl method in python. it should be __init__(self)\n",
    "#its used to declare and initialze instance variables.\n",
    "#for one object constructor will be executed only once\n",
    "\n",
    "#example: for costructor will be executed only once\n",
    "\n",
    "class Test:\n",
    "    \n",
    "    def __init__(self):\n",
    "        print('Constructor execution')\n",
    "        \n",
    "    def method(self):\n",
    "        print('methods execution')\n",
    "        \n",
    "t1 = Test()\n",
    "t2 = Test()\n",
    "t3 = Test()\n",
    "t1.method()"
   ]
  },
  {
   "cell_type": "code",
   "execution_count": 6,
   "id": "aaf049a4",
   "metadata": {},
   "outputs": [
    {
     "name": "stdout",
     "output_type": "stream",
     "text": [
      "Student Name:Krish\n",
      " Rollno:28\n",
      " Marks:97\n",
      "Student Name:johnny\n",
      " Rollno:30\n",
      " Marks:89\n"
     ]
    }
   ],
   "source": [
    "# instead of using lot of print statements we can use .format() method. lets take example1\n",
    "\n",
    "class Student:\n",
    "    \n",
    "    def __init__(self,name,rollno,marks):\n",
    "        self.name = name\n",
    "        self.rollno = rollno\n",
    "        self.marks = marks\n",
    "        \n",
    "    def Details(self):\n",
    "        print(\"Student Name:{}\\n Rollno:{}\\n Marks:{}\".format(self.name,self.rollno,self.marks))\n",
    "                              # here \\n means next line.\n",
    "s1 = Student('Krish',28,97)\n",
    "s1.Details()\n",
    "s2 = Student('johnny',30,89)\n",
    "s2.Details()"
   ]
  },
  {
   "cell_type": "code",
   "execution_count": 31,
   "id": "d12320e7",
   "metadata": {},
   "outputs": [
    {
     "name": "stdout",
     "output_type": "stream",
     "text": [
      "{'a': 80, 'b': 90, 'c': 88, 'd': 79, 'e': 84}\n",
      "{'a': 80, 'b': 90}\n",
      "{'a': 99, 'b': 90, 'c': 88, 'd': 79, 'h': 67}\n",
      "80 88 84\n",
      "99 88\n"
     ]
    }
   ],
   "source": [
    "#Creating instance variables by using different methods\n",
    "\n",
    "class Exam:\n",
    "    \n",
    "    def __init__(self):\n",
    "        self.a = 80      # inside constructor by using self variable\n",
    "        self.b = 90\n",
    "        \n",
    "    def m1(self):\n",
    "        self.c = 88     #inside instance method by using self variable\n",
    "        self.d = 79\n",
    "        self.f = 87\n",
    "    def m2(self):\n",
    "        self.h = 67\n",
    "        del self.f       #within class we can delete instance variable by self reference\n",
    "        \n",
    "e = Exam()\n",
    "e.m1()\n",
    "e.e = 84                #outside of the class by using object reference variable\n",
    "e.m2()\n",
    "del e.h           # outside the class we can delete the variable by using object reference.\n",
    "e1 = Exam()\n",
    "print(e.__dict__)\n",
    "print(e1.__dict__)   # here only self objects will print, bcz we didnt call methods with objects yet.\n",
    "e1.m1()\n",
    "e1.m2()\n",
    "e1.a = 99    #if we change the values of instance variables in one object those changes wont reflect to remaining objects\n",
    "e1.c = 88    # for every object we have separate copy of instance variables \n",
    "print(e1.__dict__)   #instances which are deleted from one object, will not deleted from other objects\n",
    "print(e.a,e.c,e.e)  #we can access variables in this method using object reference inside print.\n",
    "print(e1.a,e1.c)"
   ]
  },
  {
   "cell_type": "code",
   "execution_count": 35,
   "id": "9ede9b45",
   "metadata": {},
   "outputs": [
    {
     "name": "stdout",
     "output_type": "stream",
     "text": [
      "23\n",
      "s1: 23 25 22 21 29 28 27 26 25\n"
     ]
    }
   ],
   "source": [
    "#creating static variables using different methods.\n",
    "\n",
    "class Score:\n",
    "    a = 23\n",
    "    def __init__(self):\n",
    "        Score.b = 25\n",
    "        \n",
    "    def method1(self):\n",
    "        Score.c = 22    #inside instance method by using class name\n",
    "        self.d = 21    # we can use self also.\n",
    "        \n",
    "    @classmethod    \n",
    "    def method2(cls):\n",
    "        cls.e1 = 29      #inside class method by using clsvariable or class name\n",
    "        Score.e2 = 28\n",
    "        \n",
    "    @staticmethod\n",
    "    def method3():\n",
    "        Score.f = 27   #inside static method by using class name\n",
    "        Score.g = 26\n",
    "print(Score.a)\n",
    "s1= Score()\n",
    "s1.method1()            # for instance method we can call using object or class name\n",
    "Score.method2()          #for class and static method we can call variables by using only class name\n",
    "Score.method3()\n",
    "Score.h = 25           # we can assign variable outside clss by using class name\n",
    "print('s1:',s1.a,s1.b,s1.c,s1.d,s1.e1,s1.e2,s1.f,s1.g,s1.h)\n"
   ]
  },
  {
   "cell_type": "code",
   "execution_count": 37,
   "id": "74c4ca5b",
   "metadata": {},
   "outputs": [
    {
     "name": "stdout",
     "output_type": "stream",
     "text": [
      "10000\n",
      "20000\n"
     ]
    }
   ],
   "source": [
    "# Local variables:--> we can declare variables inside a method directly\n",
    "#we can create at the time of execution and destroyed once method complete.\n",
    "#local or temporary variables cant be accessed from outside of method.\n",
    "\n",
    "class Money:\n",
    "    def m1(self):\n",
    "        a = 10000\n",
    "        print(a)\n",
    "    def m2(self):\n",
    "        b = 20000      \n",
    "        print(b)\n",
    "        \n",
    "s = Money()\n",
    "s.m1()\n",
    "s.m2()\n",
    "# if we print(a) in method2 it will give error.\n",
    "# NameError: since 'a' is not defined in this method m2."
   ]
  },
  {
   "cell_type": "code",
   "execution_count": 42,
   "id": "fec7c403",
   "metadata": {},
   "outputs": [
    {
     "name": "stdout",
     "output_type": "stream",
     "text": [
      "Enter number of Students3\n",
      "Enter Name:siva\n",
      "Enter marks:98\n",
      "Enter your roll number:4\n",
      "Hi siva\n",
      "Your marks are: 98\n",
      "Your rollno is: 4\n",
      "You got First class\n",
      "\n",
      "Enter Name:krishna\n",
      "Enter marks:58\n",
      "Enter your roll number:6\n",
      "Hi krishna\n",
      "Your marks are: 58\n",
      "Your rollno is: 6\n",
      "You got Second class\n",
      "\n",
      "Enter Name:vamsi\n",
      "Enter marks:49\n",
      "Enter your roll number:3\n",
      "Hi vamsi\n",
      "Your marks are: 49\n",
      "Your rollno is: 3\n",
      "You got Third class\n",
      "\n"
     ]
    }
   ],
   "source": [
    "# Instance method:-->using instance variables \n",
    "#by using self variable inside method, we can access instance variables\n",
    "#within class self variables, outside class object reference variable\n",
    "\n",
    "#example:\n",
    "class Student:\n",
    "    def __init__(self,name,rollno,marks):\n",
    "        self.name = name\n",
    "        self.rollno = rollno\n",
    "        self.marks = marks\n",
    "        \n",
    "    def Details(self):\n",
    "        print('Hi',self.name)\n",
    "        print('Your marks are:',self.marks)\n",
    "        print('Your rollno is:',self.rollno)\n",
    "        \n",
    "    def Grade(self):\n",
    "        if self.marks>=60:\n",
    "            print('You got First class')\n",
    "        elif self.marks>=50:\n",
    "            print('You got Second class')\n",
    "        elif self.marks>=35:\n",
    "            print('You got Third class')\n",
    "        else:\n",
    "            print('You are Failed')\n",
    "            \n",
    "n = int(input('Enter number of Students'))\n",
    "for i in range(n):\n",
    "    name = input('Enter Name:')\n",
    "    marks = int(input('Enter marks:'))\n",
    "    rollno = int(input('Enter your roll number:'))\n",
    "    s = Student(name,rollno,marks)\n",
    "    s.Details()\n",
    "    s.Grade()\n",
    "    print()"
   ]
  },
  {
   "cell_type": "code",
   "execution_count": 43,
   "id": "8fa33217",
   "metadata": {},
   "outputs": [
    {
     "name": "stdout",
     "output_type": "stream",
     "text": [
      "number of objects created for Hello class: 2\n",
      "number of objects created for Hello class: 5\n"
     ]
    }
   ],
   "source": [
    "#class method: using only class(static) variables.\n",
    "#explicitly using @classmethod decorator.\n",
    "# we can call classmethod by using classname or object reference variable.\n",
    "\n",
    "#example: to track no of objects created for a class\n",
    "\n",
    "class Hello:\n",
    "    count = 0\n",
    "    def __init__(self):\n",
    "        Hello.count = Hello.count+1\n",
    "    \n",
    "    @classmethod\n",
    "    def No_of_Objects(cls):\n",
    "        print('number of objects created for Hello class:',cls.count)\n",
    "        \n",
    "a = Hello()\n",
    "b = Hello()\n",
    "Hello.No_of_Objects()\n",
    "c = Hello()\n",
    "d = Hello()\n",
    "e = Hello()\n",
    "Hello.No_of_Objects()"
   ]
  },
  {
   "cell_type": "code",
   "execution_count": 44,
   "id": "284b75d7",
   "metadata": {},
   "outputs": [
    {
     "name": "stdout",
     "output_type": "stream",
     "text": [
      "The Sum is: 35\n",
      "the product is: 144\n",
      "The average of two numbers is: 33.0\n"
     ]
    }
   ],
   "source": [
    "#Static Method: we wont use any instance or class variables\n",
    "#we wont provide self or cls arguments at the time of declaration\n",
    "#we can declare explicitly using @static method\n",
    "\n",
    "#example\n",
    "class Siva:\n",
    "    \n",
    "    @staticmethod\n",
    "    def Addition(x,y):\n",
    "        print('The Sum is:',x+y)\n",
    "        \n",
    "    @staticmethod\n",
    "    def Product(x,y):\n",
    "        print('the product is:',x*y)\n",
    "        \n",
    "    @staticmethod\n",
    "    def average(x,y):\n",
    "        print('The average of two numbers is:',(x+y)/2)\n",
    "        \n",
    "Siva.Addition(12,23)\n",
    "Siva.Product(12,12)\n",
    "Siva.average(43,23)\n",
    "#in general we use only instance and static methods. inside static method we can access class level variables by using class name\n",
    "#class methods are rarely used in python."
   ]
  },
  {
   "cell_type": "code",
   "execution_count": null,
   "id": "4ab5cee7",
   "metadata": {},
   "outputs": [],
   "source": []
  }
 ],
 "metadata": {
  "kernelspec": {
   "display_name": "Python 3",
   "language": "python",
   "name": "python3"
  },
  "language_info": {
   "codemirror_mode": {
    "name": "ipython",
    "version": 3
   },
   "file_extension": ".py",
   "mimetype": "text/x-python",
   "name": "python",
   "nbconvert_exporter": "python",
   "pygments_lexer": "ipython3",
   "version": "3.8.8"
  }
 },
 "nbformat": 4,
 "nbformat_minor": 5
}
