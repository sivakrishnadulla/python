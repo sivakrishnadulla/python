{
 "cells": [
  {
   "cell_type": "markdown",
   "id": "6de060c0",
   "metadata": {},
   "source": [
    "# FUNCTIONS"
   ]
  },
  {
   "cell_type": "code",
   "execution_count": null,
   "id": "d55b8413",
   "metadata": {},
   "outputs": [],
   "source": [
    "# A function is a group of related statements or reusable code that perform a specific task\n",
    "# in other languages functions are  known as methods,procedures, sub routines etc\n",
    "# there are two types of functions: 1.built-in functions, 2. user-defined functions"
   ]
  },
  {
   "cell_type": "code",
   "execution_count": null,
   "id": "72dc9cfa",
   "metadata": {},
   "outputs": [],
   "source": [
    "# 1. Built-in functions --> functions which comes along with python software\n",
    "# : id(),type(),input(), eval(),Len(), etc"
   ]
  },
  {
   "cell_type": "code",
   "execution_count": null,
   "id": "d5db3f4f",
   "metadata": {},
   "outputs": [],
   "source": [
    "# 2.user-defined functions--> functions which are writen by our own to perform some tasks\n",
    "\n",
    "\"\"\"\n",
    "def function_name():\n",
    "    statement1\n",
    "    statement2\n",
    "    .....\n",
    "    .....\n",
    "    \n",
    "    statement n\n",
    "    return value.       \n",
    "\"\"\"\n",
    "# while creating functons defis mandatory, return is optional"
   ]
  },
  {
   "cell_type": "code",
   "execution_count": 1,
   "id": "cabd67b1",
   "metadata": {},
   "outputs": [
    {
     "name": "stdout",
     "output_type": "stream",
     "text": [
      "17\n"
     ]
    }
   ],
   "source": [
    "a=3\n",
    "b=6\n",
    "c=8\n",
    "d=a+b+c\n",
    "print(d)"
   ]
  },
  {
   "cell_type": "code",
   "execution_count": 2,
   "id": "0c1f717d",
   "metadata": {},
   "outputs": [
    {
     "name": "stdout",
     "output_type": "stream",
     "text": [
      "Hello\n",
      "here i have defined my custom function\n",
      "This function will execute only when you call it \n"
     ]
    }
   ],
   "source": [
    "# defining the function\n",
    "def my_func():\n",
    "    print(\"Hello\")\n",
    "    print(\"here i have defined my custom function\")\n",
    "    print(\"This function will execute only when you call it \")\n",
    "    \n",
    "my_func()"
   ]
  },
  {
   "cell_type": "code",
   "execution_count": 3,
   "id": "3ff4bc0b",
   "metadata": {},
   "outputs": [],
   "source": [
    "# we can pass arguments\n",
    "def add(x,y,z):\n",
    "    k=x+y+z\n",
    "    print(k)"
   ]
  },
  {
   "cell_type": "code",
   "execution_count": 4,
   "id": "d01af9fe",
   "metadata": {},
   "outputs": [
    {
     "name": "stdout",
     "output_type": "stream",
     "text": [
      "179\n"
     ]
    }
   ],
   "source": [
    "add(23,67,89)"
   ]
  },
  {
   "cell_type": "code",
   "execution_count": 5,
   "id": "bbb553fd",
   "metadata": {},
   "outputs": [
    {
     "ename": "TypeError",
     "evalue": "add() missing 1 required positional argument: 'z'",
     "output_type": "error",
     "traceback": [
      "\u001b[1;31m---------------------------------------------------------------------------\u001b[0m",
      "\u001b[1;31mTypeError\u001b[0m                                 Traceback (most recent call last)",
      "\u001b[1;32m<ipython-input-5-e4171a70b1c0>\u001b[0m in \u001b[0;36m<module>\u001b[1;34m\u001b[0m\n\u001b[1;32m----> 1\u001b[1;33m \u001b[0madd\u001b[0m\u001b[1;33m(\u001b[0m\u001b[1;36m33\u001b[0m\u001b[1;33m,\u001b[0m\u001b[1;36m67\u001b[0m\u001b[1;33m)\u001b[0m\u001b[1;33m\u001b[0m\u001b[1;33m\u001b[0m\u001b[0m\n\u001b[0m",
      "\u001b[1;31mTypeError\u001b[0m: add() missing 1 required positional argument: 'z'"
     ]
    }
   ],
   "source": [
    "add(33,67) # we should pass three values since function has three arguments."
   ]
  },
  {
   "cell_type": "code",
   "execution_count": 6,
   "id": "b52689db",
   "metadata": {},
   "outputs": [
    {
     "name": "stdout",
     "output_type": "stream",
     "text": [
      "100\n"
     ]
    }
   ],
   "source": [
    "add(33,67,0)"
   ]
  },
  {
   "cell_type": "code",
   "execution_count": 7,
   "id": "bc469f64",
   "metadata": {},
   "outputs": [
    {
     "data": {
      "text/plain": [
       "2401515033936"
      ]
     },
     "execution_count": 7,
     "metadata": {},
     "output_type": "execute_result"
    }
   ],
   "source": [
    "id(add)"
   ]
  },
  {
   "cell_type": "code",
   "execution_count": 10,
   "id": "23fe33ad",
   "metadata": {},
   "outputs": [],
   "source": [
    "# passing strings as arguments\n",
    "\n",
    "def str(name1,name2,name3,name4):\n",
    "    print('my name is {}'.format(name1))\n",
    "    print('my city name is {}'.format(name2))\n",
    "    print('my bike name is {}'.format(name3))\n",
    "    print('my car name is {}'.format(name4))\n",
    "    "
   ]
  },
  {
   "cell_type": "code",
   "execution_count": 13,
   "id": "a1c67066",
   "metadata": {},
   "outputs": [
    {
     "name": "stdout",
     "output_type": "stream",
     "text": [
      "my name is siva\n",
      "my city name is kadapa\n",
      "my bike name is apache\n",
      "my car name is verna\n"
     ]
    }
   ],
   "source": [
    "str(\"siva\",'kadapa','apache','verna')"
   ]
  },
  {
   "cell_type": "code",
   "execution_count": 14,
   "id": "341b40e9",
   "metadata": {},
   "outputs": [],
   "source": [
    "# we can pass list in function\n",
    "\n",
    "def f1(list):\n",
    "    for i in list:\n",
    "        print(i)"
   ]
  },
  {
   "cell_type": "code",
   "execution_count": 15,
   "id": "cf51f845",
   "metadata": {},
   "outputs": [
    {
     "name": "stdout",
     "output_type": "stream",
     "text": [
      "1\n",
      "2\n",
      "3\n",
      "4\n",
      "5\n"
     ]
    }
   ],
   "source": [
    "f1([1,2,3,4,5])"
   ]
  },
  {
   "cell_type": "code",
   "execution_count": 16,
   "id": "110aa405",
   "metadata": {},
   "outputs": [
    {
     "name": "stdout",
     "output_type": "stream",
     "text": [
      "hi\n",
      "hey\n",
      "hello\n",
      "bye\n"
     ]
    }
   ],
   "source": [
    "f1(['hi','hey','hello','bye'])"
   ]
  },
  {
   "cell_type": "code",
   "execution_count": null,
   "id": "ffa026df",
   "metadata": {},
   "outputs": [],
   "source": [
    "# return keyword\n",
    "# return keyword can be used to return values from a function\n",
    "#it can used at the end of the execution of the function\n",
    "# statement below return keyword will not be executed"
   ]
  },
  {
   "cell_type": "code",
   "execution_count": 17,
   "id": "962e851b",
   "metadata": {},
   "outputs": [],
   "source": [
    "def multi(l,k):\n",
    "    z = l* k\n",
    "    return z\n",
    "    print(\"my product is \",z) # this willnot be executed"
   ]
  },
  {
   "cell_type": "markdown",
   "id": "8a3bddf0",
   "metadata": {},
   "source": []
  },
  {
   "cell_type": "code",
   "execution_count": 18,
   "id": "09bbad5b",
   "metadata": {},
   "outputs": [
    {
     "data": {
      "text/plain": [
       "40"
      ]
     },
     "execution_count": 18,
     "metadata": {},
     "output_type": "execute_result"
    }
   ],
   "source": [
    "multi(20,2)"
   ]
  },
  {
   "cell_type": "code",
   "execution_count": 19,
   "id": "0e3f278b",
   "metadata": {},
   "outputs": [],
   "source": [
    "# passing the default values as arguement inside our function\n",
    "# we will manually initalize a default values for the parameters to avoid errors\n",
    "def add1(x,y,z = 0):\n",
    "    k = x+y+z\n",
    "    print(k)"
   ]
  },
  {
   "cell_type": "code",
   "execution_count": 20,
   "id": "3cd02b73",
   "metadata": {},
   "outputs": [
    {
     "name": "stdout",
     "output_type": "stream",
     "text": [
      "14\n"
     ]
    }
   ],
   "source": [
    "add1(5,9) # it will execute even without third value"
   ]
  },
  {
   "cell_type": "code",
   "execution_count": 21,
   "id": "99c789e9",
   "metadata": {},
   "outputs": [],
   "source": [
    "# A function can call any other function\n",
    "\n",
    "def func1():\n",
    "    print(\"hello world\")\n",
    "    \n",
    "def func2():\n",
    "    print(\"hello india\")\n",
    "    func1()\n",
    "    \n",
    "def func3():\n",
    "    print(\"hello andhra\")\n",
    "    func1()\n",
    "    func2()"
   ]
  },
  {
   "cell_type": "code",
   "execution_count": 23,
   "id": "7b4d4791",
   "metadata": {},
   "outputs": [
    {
     "name": "stdout",
     "output_type": "stream",
     "text": [
      "hello world\n"
     ]
    }
   ],
   "source": [
    "func1()"
   ]
  },
  {
   "cell_type": "code",
   "execution_count": 24,
   "id": "46da2126",
   "metadata": {},
   "outputs": [
    {
     "name": "stdout",
     "output_type": "stream",
     "text": [
      "hello andhra\n",
      "hello world\n",
      "hello india\n",
      "hello world\n"
     ]
    }
   ],
   "source": [
    "func3()"
   ]
  },
  {
   "cell_type": "markdown",
   "id": "c898fe32",
   "metadata": {},
   "source": [
    "# Recursive function or recursion\n",
    "#A function calling itself\n",
    "#possibility of infinity execution. Always handle this scenario"
   ]
  },
  {
   "cell_type": "code",
   "execution_count": 25,
   "id": "df9de235",
   "metadata": {},
   "outputs": [],
   "source": [
    "def my_func1(num):\n",
    "\n",
    "    num = num+1\n",
    "    if(num>5):\n",
    "        return\n",
    "    \n",
    "    print(\"Hello\")\n",
    "    my_func1(num)"
   ]
  },
  {
   "cell_type": "code",
   "execution_count": 28,
   "id": "819762fc",
   "metadata": {},
   "outputs": [],
   "source": [
    "my_func1(6)  # since 6>5 it wont give o/p because of return statement\n",
    "             # if we give i/p <5 then it will give infinity no. of hello statements.\n",
    "             # advantages-->1.  We can reduce length of the code and improves readability\n",
    "              #2.   We can solve complex problems very easily\n"
   ]
  },
  {
   "cell_type": "code",
   "execution_count": 29,
   "id": "d9376e61",
   "metadata": {},
   "outputs": [],
   "source": [
    "def fact(num):\n",
    "    if (num == 1):              \n",
    "         return 1\n",
    "    elif(num == 2):\n",
    "        return 2\n",
    "    else:\n",
    "        return(num*fact(num-1))      \n",
    "                                     # fact(3)\n",
    "                                    #  =3*fact(2)\n",
    "                                     #  =3*2*fact(1)                       \n",
    "                                      # =3*2*1*fact(0)                    \n",
    "                                       #=3*2*1*1  \n",
    "                                     # =6"
   ]
  },
  {
   "cell_type": "code",
   "execution_count": 30,
   "id": "d4584066",
   "metadata": {},
   "outputs": [
    {
     "data": {
      "text/plain": [
       "720"
      ]
     },
     "execution_count": 30,
     "metadata": {},
     "output_type": "execute_result"
    }
   ],
   "source": [
    "fact(6)"
   ]
  },
  {
   "cell_type": "code",
   "execution_count": 33,
   "id": "e3a0a1ab",
   "metadata": {},
   "outputs": [],
   "source": [
    "def a1(x,y):\n",
    "    return x+y\n",
    "def a2(x,y):\n",
    "    return x-y\n",
    "def a3(x,y):\n",
    "    return x*y\n",
    "def a4(x,y):\n",
    "    return x/y\n"
   ]
  },
  {
   "cell_type": "code",
   "execution_count": 34,
   "id": "5583004b",
   "metadata": {},
   "outputs": [
    {
     "data": {
      "text/plain": [
       "12"
      ]
     },
     "execution_count": 34,
     "metadata": {},
     "output_type": "execute_result"
    }
   ],
   "source": [
    "a2(22,10)"
   ]
  },
  {
   "cell_type": "code",
   "execution_count": 37,
   "id": "a626ca1a",
   "metadata": {},
   "outputs": [
    {
     "name": "stdout",
     "output_type": "stream",
     "text": [
      "The Sum is : 150\n",
      "The Subtraction is : 50\n"
     ]
    }
   ],
   "source": [
    "# Returning Multiple values from a function:\n",
    "def sum_sub(a, b):\n",
    "    sum = a + b\n",
    "    sub = a - b\n",
    "    return sum,sub\n",
    "x, y = sum_sub(100,50)\n",
    "print(\"The Sum is :\", x)\n",
    "print(\"The Subtraction is :\", y)\n"
   ]
  },
  {
   "cell_type": "markdown",
   "id": "5b55c9e3",
   "metadata": {},
   "source": [
    "\n",
    "# Lambda\n",
    "->A lambda function is a small anonymous function or nameless function\n",
    "->they are mostly built when you want a function to be used for a short period of time\n",
    "->A lambda function can take any number of arguements, but can only have one expression\n",
    "->They are mostly used along with the map and filter\n",
    "->Sometimes we can declare a function without any name,such type of nameless functions are called anonymous functions or lambda functions."
   ]
  },
  {
   "cell_type": "code",
   "execution_count": null,
   "id": "b62c0227",
   "metadata": {},
   "outputs": [],
   "source": [
    "# syntax\n",
    "# lambda arugements : expression"
   ]
  },
  {
   "cell_type": "code",
   "execution_count": 39,
   "id": "abb6f22d",
   "metadata": {},
   "outputs": [
    {
     "data": {
      "text/plain": [
       "25"
      ]
     },
     "execution_count": 39,
     "metadata": {},
     "output_type": "execute_result"
    }
   ],
   "source": [
    "# to get square of a value by using normal function\n",
    "def fun(num):\n",
    "    return num**2\n",
    "\n",
    "fun(5)\n",
    "    "
   ]
  },
  {
   "cell_type": "code",
   "execution_count": 40,
   "id": "8a486bd9",
   "metadata": {},
   "outputs": [
    {
     "data": {
      "text/plain": [
       "36"
      ]
     },
     "execution_count": 40,
     "metadata": {},
     "output_type": "execute_result"
    }
   ],
   "source": [
    "# using lambda\n",
    "\n",
    "func = lambda num : num**2\n",
    "\n",
    "func(6)\n"
   ]
  },
  {
   "cell_type": "code",
   "execution_count": 41,
   "id": "7a012994",
   "metadata": {},
   "outputs": [],
   "source": [
    "# lambda function mostly used with map() and filter()"
   ]
  },
  {
   "cell_type": "code",
   "execution_count": 42,
   "id": "f2a9368b",
   "metadata": {},
   "outputs": [
    {
     "name": "stdout",
     "output_type": "stream",
     "text": [
      "Biggest of 10,20 is: 20\n",
      "Biggest of 100,200 is: 200\n"
     ]
    }
   ],
   "source": [
    "s=lambda a,b:a if a>b else b\n",
    "print(\"Biggest of 10,20 is:\",s(10,20))\n",
    "print(\"Biggest of 100,200 is:\",s(100,200))"
   ]
  },
  {
   "cell_type": "markdown",
   "id": "efa092c0",
   "metadata": {},
   "source": [
    "# MAP()\n",
    "->The function can be applied on each element of sequence and generates new sequence\n",
    "->it will allow you to \"map\" a function to a iterable variable or object"
   ]
  },
  {
   "cell_type": "code",
   "execution_count": null,
   "id": "fed74097",
   "metadata": {},
   "outputs": [],
   "source": [
    "# sytnax of map function\n",
    "\n",
    "'''\n",
    "map(function, sequences)\n",
    "\n",
    "it applies the function to all the elements in the sequences\n",
    "'''"
   ]
  },
  {
   "cell_type": "code",
   "execution_count": null,
   "id": "ea398c8c",
   "metadata": {},
   "outputs": [],
   "source": [
    "# DOUBLE the value using map function\n",
    "# first we assign list of sequence, then defining function, after that using map()"
   ]
  },
  {
   "cell_type": "code",
   "execution_count": 49,
   "id": "d2071f70",
   "metadata": {},
   "outputs": [],
   "source": [
    "list1 = [1,2,3,4,5,6,7]\n",
    "\n",
    "def double(num):\n",
    "    return 2*num\n"
   ]
  },
  {
   "cell_type": "code",
   "execution_count": 50,
   "id": "449a88d6",
   "metadata": {},
   "outputs": [
    {
     "data": {
      "text/plain": [
       "10"
      ]
     },
     "execution_count": 50,
     "metadata": {},
     "output_type": "execute_result"
    }
   ],
   "source": [
    "double(5)"
   ]
  },
  {
   "cell_type": "code",
   "execution_count": 51,
   "id": "f599703a",
   "metadata": {},
   "outputs": [
    {
     "data": {
      "text/plain": [
       "<map at 0x22f25823250>"
      ]
     },
     "execution_count": 51,
     "metadata": {},
     "output_type": "execute_result"
    }
   ],
   "source": [
    "# using map() function\n",
    "map(double,list1)"
   ]
  },
  {
   "cell_type": "code",
   "execution_count": 52,
   "id": "4303d807",
   "metadata": {},
   "outputs": [
    {
     "name": "stdout",
     "output_type": "stream",
     "text": [
      "2\n",
      "4\n",
      "6\n",
      "8\n",
      "10\n",
      "12\n",
      "14\n"
     ]
    }
   ],
   "source": [
    "for i in map(double,list1):\n",
    "    print(i)"
   ]
  },
  {
   "cell_type": "code",
   "execution_count": 55,
   "id": "5a9f7c54",
   "metadata": {},
   "outputs": [
    {
     "data": {
      "text/plain": [
       "(2, 4, 6, 8, 10, 12, 14)"
      ]
     },
     "execution_count": 55,
     "metadata": {},
     "output_type": "execute_result"
    }
   ],
   "source": [
    "tuple(map(double,list1))"
   ]
  },
  {
   "cell_type": "code",
   "execution_count": 75,
   "id": "9de69ee0",
   "metadata": {},
   "outputs": [
    {
     "name": "stdout",
     "output_type": "stream",
     "text": [
      "(2, 4, 6, 8, 10, 12, 14)\n"
     ]
    }
   ],
   "source": [
    "# using lambda function\n",
    "a = tuple(map(lambda num:2*num, list1))\n",
    "print(a)"
   ]
  },
  {
   "cell_type": "markdown",
   "id": "02b7a08d",
   "metadata": {},
   "source": [
    "# FILTER\n",
    "->We can use filter() function to filter values from the given sequence based on some condition. \n"
   ]
  },
  {
   "cell_type": "code",
   "execution_count": null,
   "id": "4b8d0c6e",
   "metadata": {},
   "outputs": [],
   "source": [
    "# syntax of filter\n",
    "\n",
    "'''\n",
    "filter(function,sequences)\n",
    "\n",
    "It applies the function to all the elements in the sequences\n",
    "and retains only those elements which passes the specific conditions\n",
    "'''"
   ]
  },
  {
   "cell_type": "code",
   "execution_count": 68,
   "id": "d1d9af5f",
   "metadata": {},
   "outputs": [],
   "source": [
    "# to find even num using normal function\n",
    "def even(num):\n",
    "    if num%2 == 0:\n",
    "        return True\n",
    "    else:\n",
    "        return False"
   ]
  },
  {
   "cell_type": "code",
   "execution_count": 69,
   "id": "f77b16c3",
   "metadata": {},
   "outputs": [
    {
     "data": {
      "text/plain": [
       "False"
      ]
     },
     "execution_count": 69,
     "metadata": {},
     "output_type": "execute_result"
    }
   ],
   "source": [
    "even(7)"
   ]
  },
  {
   "cell_type": "code",
   "execution_count": 58,
   "id": "1ee007ef",
   "metadata": {},
   "outputs": [
    {
     "data": {
      "text/plain": [
       "[1, 2, 3, 4, 5, 6, 7]"
      ]
     },
     "execution_count": 58,
     "metadata": {},
     "output_type": "execute_result"
    }
   ],
   "source": [
    "list1"
   ]
  },
  {
   "cell_type": "code",
   "execution_count": 71,
   "id": "82436eb7",
   "metadata": {},
   "outputs": [
    {
     "name": "stdout",
     "output_type": "stream",
     "text": [
      "(2, 4, 6)\n"
     ]
    }
   ],
   "source": [
    "#lets use filter function\n",
    "L = tuple(filter(even,list1))\n",
    "print(L)\n"
   ]
  },
  {
   "cell_type": "code",
   "execution_count": 87,
   "id": "43bb1e0b",
   "metadata": {},
   "outputs": [
    {
     "data": {
      "text/plain": [
       "(False, True, False, True, False, True, False)"
      ]
     },
     "execution_count": 87,
     "metadata": {},
     "output_type": "execute_result"
    }
   ],
   "source": [
    "tuple(map(even,list1))  # in filter it shows values but in map it gives if value is +ve then true else false"
   ]
  },
  {
   "cell_type": "code",
   "execution_count": 78,
   "id": "35ca51e3",
   "metadata": {},
   "outputs": [
    {
     "data": {
      "text/plain": [
       "64"
      ]
     },
     "execution_count": 78,
     "metadata": {},
     "output_type": "execute_result"
    }
   ],
   "source": [
    "def sqr(num):\n",
    "    return num*num\n",
    "sqr(8)"
   ]
  },
  {
   "cell_type": "code",
   "execution_count": 80,
   "id": "b4b62ade",
   "metadata": {},
   "outputs": [
    {
     "name": "stdout",
     "output_type": "stream",
     "text": [
      "{1, 3, 5, 7}\n"
     ]
    }
   ],
   "source": [
    "# using lambda function with filter to find square of a number\n",
    "L1 = set(filter(lambda num: num%2 , list1))\n",
    "print(L1)"
   ]
  },
  {
   "cell_type": "code",
   "execution_count": 83,
   "id": "548901f8",
   "metadata": {},
   "outputs": [
    {
     "name": "stdout",
     "output_type": "stream",
     "text": [
      "(1, 4, 9, 16, 25, 36, 49)\n"
     ]
    }
   ],
   "source": [
    "L2 = tuple(map(lambda num:num*num , list1))\n",
    "print(L2)"
   ]
  },
  {
   "cell_type": "code",
   "execution_count": 91,
   "id": "881df446",
   "metadata": {},
   "outputs": [
    {
     "name": "stdout",
     "output_type": "stream",
     "text": [
      "{0, 1}\n"
     ]
    }
   ],
   "source": [
    "L3 = set(map(lambda num: num%2 ,list1))\n",
    "print(L3)"
   ]
  },
  {
   "cell_type": "markdown",
   "id": "c731c791",
   "metadata": {},
   "source": [
    "# REDUCE()\n",
    "->reduce() function reduces sequence of elements into a single element by applying the specified function. \n",
    "'''\n",
    "SYNTAX\n",
    "reduce(function,sequence) \n",
    "'''\n",
    "->reduce() function present in functools module and hence we should write import statement. \n"
   ]
  },
  {
   "cell_type": "code",
   "execution_count": 96,
   "id": "266eb82c",
   "metadata": {},
   "outputs": [
    {
     "name": "stdout",
     "output_type": "stream",
     "text": [
      "by adding all elements 15\n",
      "by multiplicating all elemens 120\n",
      "by substracting all elements -13\n"
     ]
    }
   ],
   "source": [
    "from functools import*\n",
    "L=[1,2,3,4,5]\n",
    "L1=reduce(lambda x,y:x+y,L)\n",
    "print('by adding all elements',L1)\n",
    "L2=reduce(lambda x,y:x*y,L)\n",
    "print('by multiplicating all elemens',L2)\n",
    "L3=reduce(lambda x,y:x-y,L)\n",
    "print('by substracting all elements',L3)\n"
   ]
  },
  {
   "cell_type": "markdown",
   "id": "93707013",
   "metadata": {},
   "source": [
    "# ZIP()\n",
    "-> zip function will return the zip object\n",
    "-> if we have to tuples, first element in both the tuples will gets paired and form as an single element\n"
   ]
  },
  {
   "cell_type": "code",
   "execution_count": 97,
   "id": "016275cb",
   "metadata": {},
   "outputs": [],
   "source": [
    "x = (1,2,3,4,5,6,7)\n",
    "y = (1,2,3,4,5,6)\n",
    "\n",
    "z = zip(x,y)"
   ]
  },
  {
   "cell_type": "code",
   "execution_count": 98,
   "id": "439f064c",
   "metadata": {},
   "outputs": [
    {
     "name": "stdout",
     "output_type": "stream",
     "text": [
      "<zip object at 0x0000022F2580B980>\n"
     ]
    }
   ],
   "source": [
    "print(z)"
   ]
  },
  {
   "cell_type": "code",
   "execution_count": 99,
   "id": "799eea4d",
   "metadata": {},
   "outputs": [
    {
     "name": "stdout",
     "output_type": "stream",
     "text": [
      "((1, 1), (2, 2), (3, 3), (4, 4), (5, 5), (6, 6))\n"
     ]
    }
   ],
   "source": [
    "print(tuple(z)) # here 7th element in x will not print because there is no 7th element in y to pair"
   ]
  },
  {
   "cell_type": "markdown",
   "id": "793096d6",
   "metadata": {},
   "source": [
    "# ENUMERATE()\n",
    "->The enumerate() function takes a collection (e.g. a tuple) and returns it as an enumerate object.\n",
    "    ->SYNTAX IS enumerate(iterable,start)\n",
    "    ->iterable= an iterable object\n",
    "    ->start=defining the starting number, like indexing, by default it is 0"
   ]
  },
  {
   "cell_type": "code",
   "execution_count": 116,
   "id": "f3717408",
   "metadata": {},
   "outputs": [
    {
     "name": "stdout",
     "output_type": "stream",
     "text": [
      "((2, 'hello'), (3, 'hi'), (4, 'how'), (5, 'who'), (6, 'why'), (7, 'what'))\n"
     ]
    }
   ],
   "source": [
    "key= ['hello','hi','how','who','why','what']\n",
    "enum = enumerate(key)\n",
    "\n",
    "print(tuple(enumerate(key,2)))"
   ]
  },
  {
   "cell_type": "code",
   "execution_count": 114,
   "id": "cb798cd3",
   "metadata": {},
   "outputs": [
    {
     "name": "stdout",
     "output_type": "stream",
     "text": [
      "Return type: <class 'enumerate'>\n",
      "((0, 'stand'), (1, 'sleep'), (2, 'repeat'))\n",
      "((2, 'h'), (3, 'e'), (4, 'l'), (5, 'l'), (6, 'o'))\n"
     ]
    }
   ],
   "source": [
    "l1 = [\"stand\",\"sleep\",\"repeat\"]\n",
    "s1 = \"hello\"\n",
    " \n",
    "# creating enumerate objects\n",
    "obj1 = enumerate(l1)\n",
    "obj2 = enumerate(s1)\n",
    " \n",
    "print (\"Return type:\",type(obj1))\n",
    "print (tuple(enumerate(l1)))\n",
    " \n",
    "# changing start index to 2 from 0\n",
    "print (tuple(enumerate(s1,2)))"
   ]
  },
  {
   "cell_type": "code",
   "execution_count": null,
   "id": "085c1109",
   "metadata": {},
   "outputs": [],
   "source": []
  }
 ],
 "metadata": {
  "kernelspec": {
   "display_name": "Python 3",
   "language": "python",
   "name": "python3"
  },
  "language_info": {
   "codemirror_mode": {
    "name": "ipython",
    "version": 3
   },
   "file_extension": ".py",
   "mimetype": "text/x-python",
   "name": "python",
   "nbconvert_exporter": "python",
   "pygments_lexer": "ipython3",
   "version": "3.8.8"
  }
 },
 "nbformat": 4,
 "nbformat_minor": 5
}
