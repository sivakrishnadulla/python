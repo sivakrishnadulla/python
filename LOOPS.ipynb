{
 "cells": [
  {
   "cell_type": "code",
   "execution_count": null,
   "id": "42695154",
   "metadata": {},
   "outputs": [],
   "source": [
    "# LOOP--> to repeat the code for no of times, a task to perform in certain ranges.\n",
    "# while vs for loop\n",
    "# while is used to execute no of statements till the specified condition is true\n",
    "# for is used to iterate the elements of a collection as they looks in order and it is sequence.\n"
   ]
  },
  {
   "cell_type": "code",
   "execution_count": null,
   "id": "ef387e7e",
   "metadata": {},
   "outputs": [],
   "source": [
    "\"\"\" \n",
    "syntax of while loop\n",
    "\n",
    "while(condition/s):\n",
    "    statement1\n",
    "    statement2\n",
    "    ..........\n",
    "\"\"\""
   ]
  },
  {
   "cell_type": "code",
   "execution_count": 4,
   "id": "8f05984b",
   "metadata": {},
   "outputs": [
    {
     "name": "stdout",
     "output_type": "stream",
     "text": [
      "1\n",
      "2\n",
      "3\n",
      "4\n",
      "5\n",
      "6\n",
      "7\n",
      "8\n"
     ]
    }
   ],
   "source": [
    "a = 1\n",
    "while a<=8: # : and indentation is mandatory\n",
    "    print(a)\n",
    "    a+=1 # whitout this code it wont return to logic again."
   ]
  },
  {
   "cell_type": "code",
   "execution_count": 9,
   "id": "f704b953",
   "metadata": {},
   "outputs": [
    {
     "name": "stdout",
     "output_type": "stream",
     "text": [
      "1\n",
      "2\n",
      "3\n",
      "4\n",
      "5\n",
      "6\n",
      "7\n",
      "8\n",
      "9\n",
      "10\n",
      "11\n",
      "my last value of b is 12\n"
     ]
    }
   ],
   "source": [
    "# WHILE - ELSE \n",
    "# IF YOU WANT TO KNOW YOUR WHILE LOOP HAS FINISHED IT'S EXECUTION AND YOU WANT TO DO SOME OPERATIONS THEN YOU CAN MAKE USE OF \"ELSE\"\n",
    "\n",
    "b =1\n",
    "\n",
    "while b<=11:\n",
    "    print(b)\n",
    "    b+=1\n",
    "else:    \n",
    "    print('my last value of b is', b)"
   ]
  },
  {
   "cell_type": "code",
   "execution_count": 12,
   "id": "f2268cc7",
   "metadata": {},
   "outputs": [
    {
     "name": "stdout",
     "output_type": "stream",
     "text": [
      "1\n",
      "2\n",
      "3\n",
      "4\n"
     ]
    }
   ],
   "source": [
    "#BREAK--> we can stop the loop or come out of the even the condition is true\n",
    "\n",
    "c = 1\n",
    "while c<8:\n",
    "    if c==4:\n",
    "        print(c)\n",
    "        break      # here c reaches 4, so break executes and comes out of loop\n",
    "    else:\n",
    "        print(c)\n",
    "        c+=1\n"
   ]
  },
  {
   "cell_type": "code",
   "execution_count": 13,
   "id": "21600ba4",
   "metadata": {},
   "outputs": [
    {
     "name": "stdout",
     "output_type": "stream",
     "text": [
      "1\n",
      "2\n",
      "4\n",
      "5\n",
      "6\n",
      "7\n"
     ]
    }
   ],
   "source": [
    " #CONTINUE--> it will stop the current iteration and continue with remaining loop\n",
    "# if we want to skip any values we can do it with continue statement.\n",
    "    d = 0\n",
    "while d<7:\n",
    "    d+=1\n",
    "    if d==3:     # here d=3 so that value will be skipped and continued with next.\n",
    "        continue\n",
    "    print(d)"
   ]
  },
  {
   "cell_type": "code",
   "execution_count": 14,
   "id": "94d2cb38",
   "metadata": {},
   "outputs": [
    {
     "name": "stdout",
     "output_type": "stream",
     "text": [
      "1\n",
      "3\n",
      "5\n",
      "7\n",
      "9\n",
      "11\n",
      "13\n",
      "15\n",
      "17\n",
      "19\n",
      "21\n"
     ]
    }
   ],
   "source": [
    "#print only odd numbers\n",
    "\n",
    "e = 0\n",
    "while(e<21):\n",
    "    e = e+1\n",
    "    if(e%2 == 0):\n",
    "        continue\n",
    "    print(e)"
   ]
  },
  {
   "cell_type": "markdown",
   "id": "e583463a",
   "metadata": {},
   "source": [
    "# FOR loop"
   ]
  },
  {
   "cell_type": "code",
   "execution_count": null,
   "id": "4c55d499",
   "metadata": {},
   "outputs": [],
   "source": [
    "#it is used to iterate the elements of any collection(list,sets,tuples,dictionaries etc)\n",
    "\n",
    "\"\"\"\n",
    "syntax\n",
    "\n",
    "for <variable> in <sequence>\n",
    "\n",
    "\"\"\""
   ]
  },
  {
   "cell_type": "code",
   "execution_count": 15,
   "id": "fe0f9d2c",
   "metadata": {},
   "outputs": [
    {
     "name": "stdout",
     "output_type": "stream",
     "text": [
      "hi\n",
      "hey\n",
      "why\n",
      "who\n",
      "when\n",
      "hello\n"
     ]
    }
   ],
   "source": [
    "list = ['hi','hey','why','who','when','hello']\n",
    "\n",
    "for i in list:\n",
    "    print(i)"
   ]
  },
  {
   "cell_type": "code",
   "execution_count": 16,
   "id": "c1187ba6",
   "metadata": {},
   "outputs": [
    {
     "name": "stdout",
     "output_type": "stream",
     "text": [
      "h\n",
      "e\n",
      "l\n",
      "l\n",
      "o\n",
      " \n",
      "w\n",
      "o\n",
      "r\n",
      "l\n",
      "d\n"
     ]
    }
   ],
   "source": [
    "# LOOPING OVER A STRING\n",
    "\n",
    "string = \"hello world\"\n",
    "\n",
    "for i in string:\n",
    "    print(i)"
   ]
  },
  {
   "cell_type": "code",
   "execution_count": null,
   "id": "28753f93",
   "metadata": {},
   "outputs": [],
   "source": [
    "# range(start,stop,step)\n",
    "#start -- starting position default value is 0\n",
    "#stop -- end position(exclusive) default(end position)\n",
    "#step -- step size or increment of size (default value is 1)\n",
    "\n",
    "#range(5) --> 5 times you run the loop or 5 is the stop parameter\n",
    "#range(1,10) --> 1 is start and 10 is stop\n",
    "#range(1,10,2) --> 1 is start, 10 is stop and 2 is increment"
   ]
  },
  {
   "cell_type": "code",
   "execution_count": 18,
   "id": "5211dcb6",
   "metadata": {},
   "outputs": [
    {
     "name": "stdout",
     "output_type": "stream",
     "text": [
      "1\n",
      "3\n",
      "6\n",
      "10\n",
      "15\n",
      "21\n",
      "28\n",
      "36\n",
      "45\n",
      "55\n"
     ]
    }
   ],
   "source": [
    "# sum of 10 numbers\n",
    "sum = 0\n",
    "for i in range(1,11):\n",
    "    sum+=i\n",
    "    print(sum)\n"
   ]
  },
  {
   "cell_type": "code",
   "execution_count": 20,
   "id": "9bab5a9a",
   "metadata": {},
   "outputs": [
    {
     "name": "stdout",
     "output_type": "stream",
     "text": [
      "1\n",
      "4\n",
      "7\n",
      "10\n",
      "13\n",
      "16\n",
      "19\n"
     ]
    }
   ],
   "source": [
    "for i in range(1,20,3): # here we entered increment of three so there will be gap of 3 values between each value \n",
    "    print(i)"
   ]
  },
  {
   "cell_type": "code",
   "execution_count": 22,
   "id": "4bebfc00",
   "metadata": {},
   "outputs": [
    {
     "name": "stdout",
     "output_type": "stream",
     "text": [
      "11\n",
      "10\n",
      "9\n",
      "8\n",
      "7\n",
      "6\n",
      "5\n",
      "4\n",
      "3\n",
      "2\n",
      "1\n"
     ]
    }
   ],
   "source": [
    "# looping in reverse order\n",
    "for i in range(11,0,-1): # here indexes are changed and increment should be negative to get in reverse\n",
    "    print(i)"
   ]
  },
  {
   "cell_type": "code",
   "execution_count": 23,
   "id": "bc00058b",
   "metadata": {},
   "outputs": [
    {
     "name": "stdout",
     "output_type": "stream",
     "text": [
      "0\n",
      "1\n",
      "2\n",
      "3\n",
      "4\n",
      "5\n",
      "6\n"
     ]
    }
   ],
   "source": [
    "# BREAK inside for loop\n",
    "\n",
    "for i in range(0,11,1):\n",
    "    if i==7:\n",
    "        break\n",
    "    print(i)"
   ]
  },
  {
   "cell_type": "code",
   "execution_count": 24,
   "id": "b69285f0",
   "metadata": {},
   "outputs": [
    {
     "name": "stdout",
     "output_type": "stream",
     "text": [
      "hi\n",
      "hello\n"
     ]
    }
   ],
   "source": [
    "list = ['hi','hello','hey','what']\n",
    "for i in list:\n",
    "    if i == 'hey':\n",
    "        break\n",
    "    print(i)"
   ]
  },
  {
   "cell_type": "code",
   "execution_count": 25,
   "id": "9d44f70f",
   "metadata": {},
   "outputs": [
    {
     "name": "stdout",
     "output_type": "stream",
     "text": [
      "1\n",
      "3\n",
      "5\n",
      "7\n",
      "9\n"
     ]
    }
   ],
   "source": [
    "# CONTINUE inside for loop\n",
    "# i dont want to print even values\n",
    "for i in range(1,11):\n",
    "    if i%2 == 0:         # i just skipped even numbers\n",
    "        continue\n",
    "    print(i)"
   ]
  },
  {
   "cell_type": "code",
   "execution_count": null,
   "id": "86c563e7",
   "metadata": {},
   "outputs": [],
   "source": [
    "# PASS \n",
    "# PASS KEYWORD DOES NOTHING BUT YOU CAN AVOID GETTING AN ERROR WHEN EMPTY CODE IS NOT ALLOWED.\n",
    "#EMPTY CODE ARE NOT ALLOWED IN LOOPS,IF ELSE CONDITIONS, FUNCTIONS,CLASSES"
   ]
  },
  {
   "cell_type": "code",
   "execution_count": 28,
   "id": "2e8ced57",
   "metadata": {},
   "outputs": [
    {
     "ename": "SyntaxError",
     "evalue": "unexpected EOF while parsing (<ipython-input-28-97dd131ab8b5>, line 4)",
     "output_type": "error",
     "traceback": [
      "\u001b[1;36m  File \u001b[1;32m\"<ipython-input-28-97dd131ab8b5>\"\u001b[1;36m, line \u001b[1;32m4\u001b[0m\n\u001b[1;33m    \u001b[0m\n\u001b[1;37m    ^\u001b[0m\n\u001b[1;31mSyntaxError\u001b[0m\u001b[1;31m:\u001b[0m unexpected EOF while parsing\n"
     ]
    }
   ],
   "source": [
    "if i in range(1,5):\n",
    "    print(i)\n",
    "else:\n",
    "    # here we got error because else stateent is empty"
   ]
  },
  {
   "cell_type": "code",
   "execution_count": 29,
   "id": "bb35bb12",
   "metadata": {},
   "outputs": [],
   "source": [
    "if i in range(1,5):\n",
    "    print(i)\n",
    "else:\n",
    "    pass"
   ]
  },
  {
   "cell_type": "code",
   "execution_count": 30,
   "id": "e1f43161",
   "metadata": {},
   "outputs": [],
   "source": [
    "if(5<3):\n",
    "    pass"
   ]
  },
  {
   "cell_type": "code",
   "execution_count": 31,
   "id": "a37b5b86",
   "metadata": {},
   "outputs": [
    {
     "name": "stdout",
     "output_type": "stream",
     "text": [
      "10\n",
      "9\n",
      "8\n",
      "7\n",
      "6\n",
      "5\n",
      "4\n",
      "3\n",
      "2\n",
      "1\n",
      "my last value of x is 0\n"
     ]
    }
   ],
   "source": [
    "x =10\n",
    "\n",
    "while x>=1:\n",
    "    print(x)\n",
    "    x-=1\n",
    "else:    \n",
    "    print('my last value of x is', x)"
   ]
  },
  {
   "cell_type": "code",
   "execution_count": 32,
   "id": "6394eca9",
   "metadata": {},
   "outputs": [
    {
     "name": "stdout",
     "output_type": "stream",
     "text": [
      "1\n",
      "2\n",
      "3\n",
      "4\n",
      "5\n",
      "6\n"
     ]
    }
   ],
   "source": [
    "tuple = (1,2,3,4,5,6)\n",
    "for i in tuple:\n",
    "    print(i)"
   ]
  },
  {
   "cell_type": "code",
   "execution_count": 33,
   "id": "26b76ab3",
   "metadata": {},
   "outputs": [
    {
     "name": "stdout",
     "output_type": "stream",
     "text": [
      "is\n",
      "my\n",
      "siva\n",
      "krishna\n",
      "name\n"
     ]
    }
   ],
   "source": [
    "set = {'my','name','is','siva','krishna'}\n",
    "for i in set:\n",
    "    print(i)"
   ]
  },
  {
   "cell_type": "code",
   "execution_count": 35,
   "id": "b69ff260",
   "metadata": {},
   "outputs": [
    {
     "name": "stdout",
     "output_type": "stream",
     "text": [
      "name\n",
      "age\n",
      "income\n",
      "city\n"
     ]
    }
   ],
   "source": [
    "dict= {\n",
    "'name':'rahul',\n",
    "'age': 25,\n",
    "'income':2500000,\n",
    "'city':'bangalore'\n",
    "}\n",
    "for item in dict:\n",
    "    print(item)"
   ]
  },
  {
   "cell_type": "code",
   "execution_count": 36,
   "id": "2775adef",
   "metadata": {},
   "outputs": [
    {
     "data": {
      "text/plain": [
       "dict_items([('name', 'rahul'), ('age', 25), ('income', 2500000), ('city', 'bangalore')])"
      ]
     },
     "execution_count": 36,
     "metadata": {},
     "output_type": "execute_result"
    }
   ],
   "source": [
    "dict.items()\n"
   ]
  },
  {
   "cell_type": "code",
   "execution_count": null,
   "id": "58e73ec5",
   "metadata": {},
   "outputs": [],
   "source": []
  }
 ],
 "metadata": {
  "kernelspec": {
   "display_name": "Python 3",
   "language": "python",
   "name": "python3"
  },
  "language_info": {
   "codemirror_mode": {
    "name": "ipython",
    "version": 3
   },
   "file_extension": ".py",
   "mimetype": "text/x-python",
   "name": "python",
   "nbconvert_exporter": "python",
   "pygments_lexer": "ipython3",
   "version": "3.8.8"
  }
 },
 "nbformat": 4,
 "nbformat_minor": 5
}
