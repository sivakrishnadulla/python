{
 "cells": [
  {
   "cell_type": "markdown",
   "id": "43b36ffd",
   "metadata": {},
   "source": [
    "# File Handling\n",
    "## python's inbuilt function open() can be used to perform read and write operations\n",
    "## file = open(filename,mode)"
   ]
  },
  {
   "cell_type": "code",
   "execution_count": null,
   "id": "71c8f300",
   "metadata": {},
   "outputs": [],
   "source": [
    "# open() function\n",
    "\n",
    "'''\n",
    "syntax \n",
    "\n",
    "open(filename, mode)\n",
    "\n",
    "filename --> name of the file \n",
    "mode --> mode is used to specify what action you want to perform on that particular file which you are calling\n",
    "\n",
    "mode can take following vlaues:\n",
    "\n",
    "\"r\" - Read- Default\n",
    "\n",
    "if the file is present the it open the file for reading , else it will throw an error\n",
    "\n",
    "\"a\" - Append\n",
    "\n",
    "If the file is present, it opens the file for appending. Else create a new file\n",
    "\n",
    "\"w\" - write\n",
    "\n",
    "If the file is present, it opens the file for writing.Else creates the new file\n",
    "\n",
    "\"x\" - Create \n",
    "\n",
    "It will create a  new file,returns an error if the file is already present\n",
    "\n",
    "'''"
   ]
  },
  {
   "cell_type": "code",
   "execution_count": 1,
   "id": "1748c140",
   "metadata": {},
   "outputs": [],
   "source": [
    "# to create a file\n",
    "file = open(\"sample.txt\",\"x\")\n",
    "\n",
    "#when ever we open a file we have to close it\n",
    "file.close()"
   ]
  },
  {
   "cell_type": "code",
   "execution_count": 2,
   "id": "5cadfbb2",
   "metadata": {},
   "outputs": [
    {
     "name": "stdout",
     "output_type": "stream",
     "text": [
      "Filename:  sample.txt\n",
      "File mode:  w\n",
      "is File Readable:  False\n",
      "is File Writable:  True\n",
      "is file closed:  False\n",
      "is file closed:  True\n"
     ]
    }
   ],
   "source": [
    "#properties of File object\n",
    "\n",
    "file = open(\"sample.txt\",\"w\")\n",
    "print(\"Filename: \",file.name)\n",
    "print(\"File mode: \",file.mode)\n",
    "print(\"is File Readable: \",file.readable())\n",
    "print(\"is File Writable: \",file.writable())\n",
    "print(\"is file closed: \",file.closed)\n",
    "file.close()\n",
    "print(\"is file closed: \",file.closed)"
   ]
  },
  {
   "cell_type": "code",
   "execution_count": 3,
   "id": "cc73b959",
   "metadata": {},
   "outputs": [
    {
     "name": "stdout",
     "output_type": "stream",
     "text": [
      "Data written succesfully\n"
     ]
    }
   ],
   "source": [
    "#writing data to Text Files\n",
    "\n",
    "file = open(\"Writing_file.txt\",\"w\")\n",
    "file.write(\"Python is Progarmming language\\n\")\n",
    "file.write(\"Python contains Interpretor to run the code step by step\\n\")\n",
    "file.write(\"Python has wide range of usage in Data Science\\n\")\n",
    "print(\"Data written succesfully\")\n",
    "file.close()"
   ]
  },
  {
   "cell_type": "code",
   "execution_count": 5,
   "id": "5d5389c0",
   "metadata": {},
   "outputs": [
    {
     "name": "stdout",
     "output_type": "stream",
     "text": [
      "Python is Progarmming language\n",
      "Python contains Interpretor to run the code step by step\n",
      "Python has wide range of usage in Data Science\n",
      "\n"
     ]
    }
   ],
   "source": [
    "#read the file\n",
    "file = open(\"Writing_file.txt\",\"r\")\n",
    "text = file.read()\n",
    "print(text)\n",
    "file.close()"
   ]
  },
  {
   "cell_type": "code",
   "execution_count": 8,
   "id": "80af856b",
   "metadata": {},
   "outputs": [
    {
     "name": "stdout",
     "output_type": "stream",
     "text": [
      "list of lines are written succesfully into the file\n"
     ]
    }
   ],
   "source": [
    "#Append the data, here when we use same file to append the data will be added at the end.\n",
    "#we can add no of lines at once\n",
    "file = open(\"Writing_file.txt\",\"a\")  #while using write() method we need to add \\n at the end of the line otherwise all lines will be added into single line\n",
    "list = [\"my name is Siva Krishna\\n\",\"Iam a Btech Graduate\\n\",\"I Have intrest in software industry\\n\"]\n",
    "file.writelines(list)\n",
    "print(\"list of lines are written succesfully into the file\")\n",
    "file.close()"
   ]
  },
  {
   "cell_type": "code",
   "execution_count": 9,
   "id": "3ec1fd37",
   "metadata": {},
   "outputs": [
    {
     "name": "stdout",
     "output_type": "stream",
     "text": [
      "Python is Progarmming language\n",
      "Python contains Interpretor to run the code step by step\n",
      "Python has wide range of usage in Data Science\n",
      "my name is Siva Krishna\n",
      "Iam a Btech Graduate\n",
      "I Have intrest in software industry\n",
      "my name is Siva Krishna\n",
      "Iam a Btech Graduate\n",
      "I Have intrest in software industry\n",
      "my name is Siva Krishna\n",
      "Iam a Btech Graduate\n",
      "I Have intrest in software industry\n",
      "\n"
     ]
    }
   ],
   "source": [
    "file = open('Writing_file.txt','r')\n",
    "data = file.read()\n",
    "print(data)\n",
    "file.close()"
   ]
  },
  {
   "cell_type": "code",
   "execution_count": 14,
   "id": "b310521a",
   "metadata": {},
   "outputs": [
    {
     "name": "stdout",
     "output_type": "stream",
     "text": [
      "Python is Progarmming language\n",
      "Python contains Interpretor to run the code step by step\n",
      "Python has wide range of usage in Data Science\n",
      "my name is Siva Krishna\n",
      "Iam a Btech Graduate\n",
      "I Have intrest in software industry\n",
      "my name is Siva Krishna\n",
      "Iam a Btech Graduate\n",
      "I Have intrest in software industry\n",
      "my name is Siva Krishna\n",
      "Iam a Btech Graduate\n",
      "I Have intrest in software industry\n",
      "I Have intrest in software industry\n",
      "\n"
     ]
    }
   ],
   "source": [
    "#we can read lines \n",
    "file = open(\"Writing_file.txt\",'r')\n",
    "lines = file.readlines()\n",
    "for line in lines:\n",
    "    print(line,end='')\n",
    "    \n",
    "print(lines[-1]) #it will give first line from the end since we are using negative indexing\n",
    "    \n",
    "file.close()"
   ]
  },
  {
   "cell_type": "markdown",
   "id": "e5d6ead9",
   "metadata": {},
   "source": [
    "# With Statement\n",
    "## When we use, we can use this to group file operations statement within a block\n",
    "# it will take care of closing file after completing all operations."
   ]
  },
  {
   "cell_type": "code",
   "execution_count": 15,
   "id": "35a57d5f",
   "metadata": {},
   "outputs": [
    {
     "name": "stdout",
     "output_type": "stream",
     "text": [
      "is file closed:  False\n",
      "is file closed:  True\n"
     ]
    }
   ],
   "source": [
    "with open(\"file1.txt\",'w') as file:\n",
    "    file.write(\"Iam Siva krishna\\n\")\n",
    "    file.write(\"Iam from Andhra Pradesh\\n\")\n",
    "    print(\"is file closed: \",file.closed)\n",
    "    \n",
    "print(\"is file closed: \",file.closed)"
   ]
  },
  {
   "cell_type": "code",
   "execution_count": 18,
   "id": "14ab6b8d",
   "metadata": {},
   "outputs": [
    {
     "name": "stdout",
     "output_type": "stream",
     "text": [
      "0\n",
      "Iam \n",
      "4\n",
      "Siva krishna\n",
      "16\n"
     ]
    }
   ],
   "source": [
    "#SEEK() and TELL() methods\n",
    "#tell() method is used to return current position of the pointer in file\n",
    "with open(\"file1.txt\",\"r\") as file:\n",
    "    print(file.tell())\n",
    "    print(file.read(4))\n",
    "    print(file.tell())\n",
    "    print(file.read(12))\n",
    "    print(file.tell())\n",
    "    \n",
    "file.close()"
   ]
  },
  {
   "cell_type": "code",
   "execution_count": 23,
   "id": "b37f1734",
   "metadata": {},
   "outputs": [
    {
     "name": "stdout",
     "output_type": "stream",
     "text": [
      "Current position of cursor:  0\n",
      "current position of cursor:  10\n"
     ]
    }
   ],
   "source": [
    "#seek() method is used to check the exact or specified location of pointer in file\n",
    "with open(\"file1.txt\",'r') as f:\n",
    "    text = f.read()\n",
    "    print(\"Current position of cursor: \",f.tell())\n",
    "    f.seek(10)  # here cursor position change from 0 to 10\n",
    "    print(\"current position of cursor: \",f.tell())\n",
    "    f.seek(0)  # again cursor postion will come back to 0\n",
    "    \n",
    "    \n",
    "f.close()"
   ]
  },
  {
   "cell_type": "code",
   "execution_count": 27,
   "id": "be4f73a4",
   "metadata": {},
   "outputs": [
    {
     "name": "stdout",
     "output_type": "stream",
     "text": [
      "\n"
     ]
    }
   ],
   "source": [
    "with open(\"file1.txt\",\"r\") as f:\n",
    "    print(f.read())\n",
    "    \n",
    "f.close()"
   ]
  },
  {
   "cell_type": "code",
   "execution_count": null,
   "id": "92da6085",
   "metadata": {},
   "outputs": [],
   "source": []
  }
 ],
 "metadata": {
  "kernelspec": {
   "display_name": "Python 3",
   "language": "python",
   "name": "python3"
  },
  "language_info": {
   "codemirror_mode": {
    "name": "ipython",
    "version": 3
   },
   "file_extension": ".py",
   "mimetype": "text/x-python",
   "name": "python",
   "nbconvert_exporter": "python",
   "pygments_lexer": "ipython3",
   "version": "3.8.8"
  }
 },
 "nbformat": 4,
 "nbformat_minor": 5
}
