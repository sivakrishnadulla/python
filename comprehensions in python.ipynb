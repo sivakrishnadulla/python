{
 "cells": [
  {
   "cell_type": "markdown",
   "id": "26c42362",
   "metadata": {},
   "source": [
    "# List Comprehension\n",
    "Basically comprehensons are used to reduce the lines of code, we can do one operation of multiple lines of code in a single line of code.\n",
    "\n",
    "syntax = [expression for item in list if condition]"
   ]
  },
  {
   "cell_type": "code",
   "execution_count": 2,
   "id": "5f2b55d5",
   "metadata": {},
   "outputs": [
    {
     "name": "stdout",
     "output_type": "stream",
     "text": [
      "without using list comprehension [30, 60, 54, 435, 645, 33, 66, 99, 69]\n",
      "using list comprehension [30, 60, 54, 435, 645, 33, 66, 99, 69]\n"
     ]
    }
   ],
   "source": [
    "# I want to print the multipules of 3 using below list\n",
    "L1 = [10,30,40,60,54,435,645,23,33,66,99,69]\n",
    "div_by_3 = []\n",
    "\n",
    "for num in L1:\n",
    "    if num%3 == 0:\n",
    "        div_by_3.append(num)\n",
    "print(\"without using list comprehension\",div_by_3)\n",
    "\n",
    "# now trying same thing using list comprehension\n",
    "print(\"using list comprehension\",[num for num in L1 if num%3 == 0])\n",
    "#Here when if condition satisfies then looping willbe done"
   ]
  },
  {
   "cell_type": "code",
   "execution_count": 6,
   "id": "8d03e14f",
   "metadata": {},
   "outputs": [
    {
     "name": "stdout",
     "output_type": "stream",
     "text": [
      "values multiplied by 2 in range [1, 4, 9, 16, 25, 36, 49]\n",
      "squares of the vlaues in range [0, 1, 4, 9, 16, 25, 36]\n",
      "cubes of values in range [0, 8, 64, 216, 512, 1000]\n"
     ]
    }
   ],
   "source": [
    "#i want to do some operations using list comprehensions\n",
    "print(\"values multiplied by 2 in range\",[x**2 for x in range(1,8)])\n",
    "\n",
    "print(\"squares of the vlaues in range\",[x*x for x in range(7)])\n",
    "\n",
    "print(\"cubes of values in range\",[x**3 for x in range(12) if x%2==0])\n"
   ]
  },
  {
   "cell_type": "code",
   "execution_count": 8,
   "id": "dd28fd4f",
   "metadata": {},
   "outputs": [
    {
     "name": "stdout",
     "output_type": "stream",
     "text": [
      "square of numbers which is not in n2 are  [225, 484, 1681]\n"
     ]
    }
   ],
   "source": [
    "# trying to print values and its wquares in n1 which are not repeated in n2\n",
    "n1=[15,22,33,41]\n",
    "n2=[33,42,50,65]\n",
    "print(\"square of numbers which is not in n2 are \",[i**2 for i in n1 if i not in n2])\n"
   ]
  },
  {
   "cell_type": "code",
   "execution_count": 12,
   "id": "93b3ac19",
   "metadata": {},
   "outputs": [
    {
     "name": "stdout",
     "output_type": "stream",
     "text": [
      "['the', 'quick', 'brown', 'fox', 'jumps', 'over', 'the', 'lazy', 'dog']\n",
      "capital letters of words and its length are [['THE', 3], ['QUICK', 5], ['BROWN', 5], ['FOX', 3], ['JUMPS', 5], ['OVER', 4], ['THE', 3], ['LAZY', 4], ['DOG', 3]]\n"
     ]
    }
   ],
   "source": [
    "# splitting every word in string and printing capital letters of words and its length\n",
    "words=\"the quick brown fox jumps over the lazy dog\".split()\n",
    "print(words)\n",
    "\n",
    "print(\"capital letters of words and its length are\",[[w.upper(),len(w)] for w in words])"
   ]
  },
  {
   "cell_type": "markdown",
   "id": "74e50012",
   "metadata": {},
   "source": [
    "# Dictionary Comprehension\n",
    "\n",
    "syntax = [key:expression for item in dictionary if condition]"
   ]
  },
  {
   "cell_type": "code",
   "execution_count": 16,
   "id": "7a698f05",
   "metadata": {},
   "outputs": [
    {
     "name": "stdout",
     "output_type": "stream",
     "text": [
      "squares of numbers in the form of dict {2: 4, 3: 9, 4: 16, 5: 25, 6: 36, 7: 49, 8: 64}\n",
      "dictionary is multiplied by 2 are {1: 2, 2: 4, 3: 6, 4: 8, 5: 10, 6: 12}\n"
     ]
    }
   ],
   "source": [
    "#using dict comprehension printing some math operations\n",
    "print(\"squares of numbers in the form of dict\",{x:x*x for x in range(2,9)})\n",
    "\n",
    "print(\"dictionary is multiplied by 2 are\", {x:x*2 for x in range(1,7)})"
   ]
  },
  {
   "cell_type": "code",
   "execution_count": 18,
   "id": "88466c61",
   "metadata": {},
   "outputs": [
    {
     "name": "stdout",
     "output_type": "stream",
     "text": [
      "{'a': 50, 'b': 76}\n"
     ]
    }
   ],
   "source": [
    "#trying to add both values of a in one key\n",
    "dict = {'a':35, \"b\":76, \"A\":15}\n",
    "print({k.lower():dict.get(k.lower(), 0)+dict.get(k.upper(), 0) for k in dict.keys()})\n",
    "\n",
    "#here both vlaues of a and A ==> 35+15 is added into a "
   ]
  },
  {
   "cell_type": "markdown",
   "id": "f99da891",
   "metadata": {},
   "source": [
    "# Set Comprehensions\n",
    "\n",
    "syntax = [expression for item in set if condition]\n"
   ]
  },
  {
   "cell_type": "code",
   "execution_count": 19,
   "id": "33eca4a5",
   "metadata": {},
   "outputs": [
    {
     "name": "stdout",
     "output_type": "stream",
     "text": [
      "squares of the numbers  {0, 1, 4, 36, 9, 16, 49, 25}\n",
      "multiplying the set with 5  {35, 5, 40, 10, 15, 20, 25, 30}\n"
     ]
    }
   ],
   "source": [
    "# in sets, o/p will not come in sequence, it will print all values randomly\n",
    "print(\"squares of the numbers \",{x*x for x in range(8)})\n",
    "\n",
    "print(\"multiplying the set with 5 \",{x*5 for x in {1,2,3,4,4,5,5,6,6,7,7,8}})\n",
    "#even though we given duplicate values in set, it wont take duplicates in set\n",
    "\n",
    "#set object doesn't support indexing"
   ]
  },
  {
   "cell_type": "markdown",
   "id": "076b934a",
   "metadata": {},
   "source": [
    "# Generator Comprehension\n"
   ]
  },
  {
   "cell_type": "code",
   "execution_count": 21,
   "id": "5b50b042",
   "metadata": {},
   "outputs": [
    {
     "name": "stdout",
     "output_type": "stream",
     "text": [
      "<generator object <genexpr> at 0x000001FABA751F20>\n"
     ]
    }
   ],
   "source": [
    "#here by using generators the operation has done but wont shown o/p until any looping condition is generated\n",
    "gen = (i for i in range(30))\n",
    "print(gen)"
   ]
  },
  {
   "cell_type": "code",
   "execution_count": 31,
   "id": "dce38b5a",
   "metadata": {},
   "outputs": [],
   "source": [
    "gen1 = (i for i in range(30) if 1%4 == 0)  #these will initialize a object\n",
    "for x in gen1:  #when we iterate it then values will get printed and ram memory will not much consumed\n",
    "    print(x)"
   ]
  },
  {
   "cell_type": "code",
   "execution_count": null,
   "id": "1b84a105",
   "metadata": {},
   "outputs": [],
   "source": []
  },
  {
   "cell_type": "code",
   "execution_count": null,
   "id": "1805cfe7",
   "metadata": {},
   "outputs": [],
   "source": []
  }
 ],
 "metadata": {
  "kernelspec": {
   "display_name": "Python 3",
   "language": "python",
   "name": "python3"
  },
  "language_info": {
   "codemirror_mode": {
    "name": "ipython",
    "version": 3
   },
   "file_extension": ".py",
   "mimetype": "text/x-python",
   "name": "python",
   "nbconvert_exporter": "python",
   "pygments_lexer": "ipython3",
   "version": "3.8.8"
  }
 },
 "nbformat": 4,
 "nbformat_minor": 5
}
