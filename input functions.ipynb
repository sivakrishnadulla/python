{
 "cells": [
  {
   "cell_type": "code",
   "execution_count": 1,
   "id": "22cf23a1",
   "metadata": {},
   "outputs": [
    {
     "name": "stdout",
     "output_type": "stream",
     "text": [
      "my name is siva krishna\n"
     ]
    }
   ],
   "source": [
    " # user input functions and different methods to give input and get output\n",
    " # just printing a string in normal method\n",
    "print('my name is siva krishna')"
   ]
  },
  {
   "cell_type": "code",
   "execution_count": 2,
   "id": "e7ac1287",
   "metadata": {},
   "outputs": [],
   "source": [
    "a = 67\n",
    "b = 45\n",
    "c = 'hi'"
   ]
  },
  {
   "cell_type": "code",
   "execution_count": 3,
   "id": "2d63b83a",
   "metadata": {},
   "outputs": [
    {
     "name": "stdout",
     "output_type": "stream",
     "text": [
      "67 45 hi\n"
     ]
    }
   ],
   "source": [
    "print(a,b,c)"
   ]
  },
  {
   "cell_type": "code",
   "execution_count": 4,
   "id": "ba410462",
   "metadata": {},
   "outputs": [
    {
     "name": "stdout",
     "output_type": "stream",
     "text": [
      " the value of a is 67\n"
     ]
    }
   ],
   "source": [
    "# just by printing vaariable its difficult to find what it is\n",
    "print(\" the value of a is\",a)"
   ]
  },
  {
   "cell_type": "code",
   "execution_count": 5,
   "id": "509a7025",
   "metadata": {},
   "outputs": [
    {
     "name": "stdout",
     "output_type": "stream",
     "text": [
      "the value of b is45\n"
     ]
    }
   ],
   "source": [
    "print('the value of b is'+ str(b))"
   ]
  },
  {
   "cell_type": "code",
   "execution_count": 6,
   "id": "20f5d567",
   "metadata": {},
   "outputs": [
    {
     "data": {
      "text/plain": [
       "int"
      ]
     },
     "execution_count": 6,
     "metadata": {},
     "output_type": "execute_result"
    }
   ],
   "source": [
    "type(b)"
   ]
  },
  {
   "cell_type": "code",
   "execution_count": 7,
   "id": "848e8536",
   "metadata": {},
   "outputs": [],
   "source": [
    "# giving the output using the format function by using curly braces\n",
    "d = a+b\n",
    "e = a-b\n"
   ]
  },
  {
   "cell_type": "code",
   "execution_count": 9,
   "id": "57b735ed",
   "metadata": {},
   "outputs": [
    {
     "name": "stdout",
     "output_type": "stream",
     "text": [
      "The addition of a and b is 112 and the subtraction of a and b is 22\n"
     ]
    }
   ],
   "source": [
    "print(\"The addition of a and b is {} and the subtraction of a and b is {}\".format(d,e))"
   ]
  },
  {
   "cell_type": "code",
   "execution_count": 11,
   "id": "182a0577",
   "metadata": {},
   "outputs": [
    {
     "name": "stdout",
     "output_type": "stream",
     "text": [
      "the add od a and b is 112 and the sub od a and b is 22\n"
     ]
    }
   ],
   "source": [
    "# we can also do the same by using indexing\n",
    "print('the add od a and b is {1} and the sub od a and b is {0}'.format(e,d))\n",
    "#here specifying using index values"
   ]
  },
  {
   "cell_type": "code",
   "execution_count": 12,
   "id": "603babfb",
   "metadata": {},
   "outputs": [
    {
     "name": "stdout",
     "output_type": "stream",
     "text": [
      "enter the 1st num22\n",
      "enter the 2nd num77\n",
      "99\n"
     ]
    }
   ],
   "source": [
    "# adding some text in the print function that user can able to understabd\n",
    "x = int(input('enter the 1st num'))\n",
    "y = int(input('enter the 2nd num'))\n",
    "z=x+y\n",
    "print(z)\n",
    "# if we dont give int here, python will automatically save it as string\n",
    "# by default it goes under string"
   ]
  },
  {
   "cell_type": "code",
   "execution_count": 14,
   "id": "a20995bd",
   "metadata": {},
   "outputs": [
    {
     "name": "stdout",
     "output_type": "stream",
     "text": [
      "enter the 1st namesiva\n",
      "enter the 2nd namekrishna\n",
      "sivakrishna\n"
     ]
    }
   ],
   "source": [
    "x = input('enter the 1st name')\n",
    "y = input('enter the 2nd name')\n",
    "z=x+y\n",
    "print(z)"
   ]
  },
  {
   "cell_type": "code",
   "execution_count": 15,
   "id": "79b0d6a6",
   "metadata": {},
   "outputs": [
    {
     "name": "stdout",
     "output_type": "stream",
     "text": [
      "enter a charhello\n",
      "hello\n"
     ]
    }
   ],
   "source": [
    "ch = input('enter a char')\n",
    "print(ch)"
   ]
  },
  {
   "cell_type": "code",
   "execution_count": 16,
   "id": "17e4bd34",
   "metadata": {},
   "outputs": [
    {
     "name": "stdout",
     "output_type": "stream",
     "text": [
      "enter a charhello\n",
      "h\n"
     ]
    }
   ],
   "source": [
    "# to get only one letter from the o/p hello\n",
    "ch = input('enter a char')[0]\n",
    "print(ch)"
   ]
  },
  {
   "cell_type": "code",
   "execution_count": 18,
   "id": "fb3c064b",
   "metadata": {},
   "outputs": [
    {
     "name": "stdout",
     "output_type": "stream",
     "text": [
      "hey iam having samosa with a cup of tea\n"
     ]
    }
   ],
   "source": [
    "# assigning the variables inside the print function and using the .format()\n",
    "print('hey iam having {snacks} with a cup of {drink}'.format(snacks='samosa',drink='tea'))\n"
   ]
  },
  {
   "cell_type": "code",
   "execution_count": 20,
   "id": "baadf432",
   "metadata": {},
   "outputs": [
    {
     "name": "stdout",
     "output_type": "stream",
     "text": [
      "lets go to goa in our benz\n"
     ]
    }
   ],
   "source": [
    "print('lets go to {place} in our {vehicle}'.format(place='goa',vehicle='benz') )"
   ]
  },
  {
   "cell_type": "code",
   "execution_count": 21,
   "id": "bbd5e893",
   "metadata": {},
   "outputs": [
    {
     "name": "stdout",
     "output_type": "stream",
     "text": [
      "hi my name is siva iam from kadapa iam started practicing python by using jupyter\n"
     ]
    }
   ],
   "source": [
    "# assigning the variables inside the print function and combining the indexes with it for the .format() method\n",
    "print('hi my name is {1} iam from {0} iam started practicing {2} by using {tool}'.format('kadapa','siva','python',tool='jupyter'))"
   ]
  },
  {
   "cell_type": "code",
   "execution_count": 22,
   "id": "a5c3a3e3",
   "metadata": {},
   "outputs": [
    {
     "name": "stdout",
     "output_type": "stream",
     "text": [
      "i love travelling, lets go to munnar this weekend on our bikes with all our friends to have fun\n"
     ]
    }
   ],
   "source": [
    "print('i love travelling, lets go to {2} this {1} on our {0} with all our {persons} to have {express}'.format('bikes','weekend','munnar',persons='friends',express='fun'))"
   ]
  },
  {
   "cell_type": "code",
   "execution_count": null,
   "id": "c88966ab",
   "metadata": {},
   "outputs": [],
   "source": []
  },
  {
   "cell_type": "code",
   "execution_count": null,
   "id": "eecf52cd",
   "metadata": {},
   "outputs": [],
   "source": []
  }
 ],
 "metadata": {
  "kernelspec": {
   "display_name": "Python 3",
   "language": "python",
   "name": "python3"
  },
  "language_info": {
   "codemirror_mode": {
    "name": "ipython",
    "version": 3
   },
   "file_extension": ".py",
   "mimetype": "text/x-python",
   "name": "python",
   "nbconvert_exporter": "python",
   "pygments_lexer": "ipython3",
   "version": "3.8.8"
  }
 },
 "nbformat": 4,
 "nbformat_minor": 5
}
