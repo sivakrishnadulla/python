{
 "cells": [
  {
   "cell_type": "code",
   "execution_count": null,
   "id": "b84687e3",
   "metadata": {},
   "outputs": [],
   "source": [
    "# IF condition applies only when specified condition is TRUE\n",
    "'''\n",
    "syntax of IF\n",
    "\n",
    "if (condition/s):\n",
    "    statement1\n",
    "    statement2\n",
    "    ...........\n",
    "    \n",
    "'''"
   ]
  },
  {
   "cell_type": "code",
   "execution_count": 1,
   "id": "85c1778e",
   "metadata": {},
   "outputs": [
    {
     "name": "stdout",
     "output_type": "stream",
     "text": [
      "both the numbers are same\n"
     ]
    }
   ],
   "source": [
    "num1 = 90\n",
    "num2 = 90\n",
    "\n",
    "if (num1 == num2):\n",
    "    print(\"both the numbers are same\")"
   ]
  },
  {
   "cell_type": "code",
   "execution_count": 4,
   "id": "efe5908c",
   "metadata": {},
   "outputs": [
    {
     "name": "stdout",
     "output_type": "stream",
     "text": [
      "both the numbers are not same\n"
     ]
    }
   ],
   "source": [
    "num3 =80\n",
    "num4 = 70\n",
    "\n",
    "if(num3 != num4):\n",
    "    print('both the numbers are not same')"
   ]
  },
  {
   "cell_type": "code",
   "execution_count": 5,
   "id": "8c7e28e0",
   "metadata": {},
   "outputs": [
    {
     "ename": "IndentationError",
     "evalue": "expected an indented block (<ipython-input-5-5095b62bbf1f>, line 5)",
     "output_type": "error",
     "traceback": [
      "\u001b[1;36m  File \u001b[1;32m\"<ipython-input-5-5095b62bbf1f>\"\u001b[1;36m, line \u001b[1;32m5\u001b[0m\n\u001b[1;33m    print('it is true')\u001b[0m\n\u001b[1;37m    ^\u001b[0m\n\u001b[1;31mIndentationError\u001b[0m\u001b[1;31m:\u001b[0m expected an indented block\n"
     ]
    }
   ],
   "source": [
    "# INDENTATION--> its mandatory to give semicolon(:)and 4spaces or one tab after if conditions starts\n",
    "# when print statement starts it should definitely follow the indentation otherwise python shows error\n",
    "\n",
    "if(num1>num2):\n",
    "print('it is true')"
   ]
  },
  {
   "cell_type": "code",
   "execution_count": 7,
   "id": "96e7796a",
   "metadata": {},
   "outputs": [
    {
     "name": "stdout",
     "output_type": "stream",
     "text": [
      "it is true\n"
     ]
    }
   ],
   "source": [
    "if(num1>num3):\n",
    "    print('it is true')"
   ]
  },
  {
   "cell_type": "code",
   "execution_count": 1,
   "id": "c73a0c4a",
   "metadata": {},
   "outputs": [
    {
     "name": "stdout",
     "output_type": "stream",
     "text": [
      "18 is greater\n",
      "14 is smaller\n",
      "18 is greater than 14\n",
      "14 is smaller than 18\n"
     ]
    }
   ],
   "source": [
    "# we can give 'n' no of print statements by using indentation\n",
    "\n",
    "if(18>14):\n",
    "    print('18 is greater')\n",
    "    print('14 is smaller')\n",
    "    print('18 is greater than 14')\n",
    "    print('14 is smaller than 18')"
   ]
  },
  {
   "cell_type": "code",
   "execution_count": null,
   "id": "af194f5c",
   "metadata": {},
   "outputs": [],
   "source": [
    "# ELSE statement executes when IF contion is failed\n",
    "'''\n",
    "syntax of IF..ELSE CONDITION\n",
    "\n",
    "if (condition/s):\n",
    "    statement1\n",
    "    statement2\n",
    "    ...........\n",
    "else:\n",
    "    statement1\n",
    "    statement2\n",
    "    \n",
    "'''"
   ]
  },
  {
   "cell_type": "code",
   "execution_count": 3,
   "id": "c0b7f0ad",
   "metadata": {},
   "outputs": [
    {
     "name": "stdout",
     "output_type": "stream",
     "text": [
      "its is not leap year\n"
     ]
    }
   ],
   "source": [
    "year = 2003\n",
    "\n",
    "if(year%4 ==0):\n",
    "    print('it is leap year')\n",
    "else:\n",
    "    print('its is not leap year') # since if condition is failed we got o/p with else condition."
   ]
  },
  {
   "cell_type": "code",
   "execution_count": 7,
   "id": "11ed5d65",
   "metadata": {},
   "outputs": [
    {
     "name": "stdout",
     "output_type": "stream",
     "text": [
      "enter the value: \n",
      "None8\n",
      "a is even number\n"
     ]
    }
   ],
   "source": [
    "# lets use input functions with IF-ELSE condition to find out even or odd num\n",
    "a = int(input(print('enter the value: ' )))\n",
    "b = a%2\n",
    "\n",
    "if(b == 0):\n",
    "    print('a is even number')\n",
    "else:\n",
    "    print('a is odd number')"
   ]
  },
  {
   "cell_type": "code",
   "execution_count": 8,
   "id": "7b420bf4",
   "metadata": {},
   "outputs": [
    {
     "name": "stdout",
     "output_type": "stream",
     "text": [
      "all conditions are false\n"
     ]
    }
   ],
   "source": [
    "# NESTED IF--> it helps to check multiple conditions\n",
    "'''\n",
    "syntax of IF..ELIF..ELSE CONDITION\n",
    "\n",
    "if (condition/s):\n",
    "    statement1\n",
    "    statement2\n",
    "    ...........\n",
    "elif (condition/s):\n",
    "    statement1\n",
    "    statement2\n",
    "\n",
    "else:\n",
    "    statement1\n",
    "    statement2\n",
    "    \n",
    "'''\n",
    "ab = 12\n",
    "\n",
    "if(ab>=20):\n",
    "    print('condition is true')\n",
    "else:\n",
    "    if(ab>=18):\n",
    "        print('checking second value')\n",
    "    else:\n",
    "        print('all conditions are false')"
   ]
  },
  {
   "cell_type": "code",
   "execution_count": 11,
   "id": "f483bf81",
   "metadata": {},
   "outputs": [
    {
     "name": "stdout",
     "output_type": "stream",
     "text": [
      "enter any value: \n",
      "None2\n",
      "two\n"
     ]
    }
   ],
   "source": [
    "# lets use input functions with nested-if contion\n",
    "# to check multiple no. of conditions we can use ELIF\n",
    "\n",
    "x = int(input(print('enter any value: ')))\n",
    "if(x==1):\n",
    "    print('one')\n",
    "elif(x==2):\n",
    "    print('two')\n",
    "elif(x==3):\n",
    "    print('three')\n",
    "else:\n",
    "    print('invalid numbers')"
   ]
  },
  {
   "cell_type": "code",
   "execution_count": 13,
   "id": "13844187",
   "metadata": {},
   "outputs": [
    {
     "name": "stdout",
     "output_type": "stream",
     "text": [
      "condition satisfied\n"
     ]
    }
   ],
   "source": [
    "# using multiple conditions by using or, and operators\n",
    "y = 17\n",
    "\n",
    "# either it should be divisible by 2\n",
    "#or it should be a positive number\n",
    "#or it should be divisible by 4\n",
    "\n",
    "if (y%2 == 0 or y > 0 or y%4 ==0):\n",
    "    print(\"condition satisfied\")\n",
    "else:\n",
    "    print(\"not satisfied\") # since it is positivve number"
   ]
  },
  {
   "cell_type": "code",
   "execution_count": 14,
   "id": "24de35d5",
   "metadata": {},
   "outputs": [
    {
     "name": "stdout",
     "output_type": "stream",
     "text": [
      "condition satisfied\n"
     ]
    }
   ],
   "source": [
    "# using and operator\n",
    "z = 40\n",
    "\n",
    "if (z >0 and z%2 ==0 and z%5 == 0):\n",
    "    print(\"condition satisfied\")\n",
    "else:\n",
    "    print(\"not satisfied\") # it satiesfies all conditions, if any one condition fails then else statement will print"
   ]
  },
  {
   "cell_type": "code",
   "execution_count": 30,
   "id": "045c42c3",
   "metadata": {},
   "outputs": [
    {
     "name": "stdout",
     "output_type": "stream",
     "text": [
      "enter the value: \n",
      "None5\n",
      "enter the value: \n",
      "None6\n",
      "enter choice:3\n",
      "5 * 6 = 30\n"
     ]
    }
   ],
   "source": [
    "# ask the user 2 numbers and store it inside num1 and num2\n",
    "# ask the user to press 1 for addition and press 2 for sub and press 3 for multi and press 4 for division\n",
    "# based on the number given by the user o the math operation#\n",
    "a1 = int(input(print('enter the value: ')))\n",
    "a2 = int(input(print('enter the value: ')))\n",
    "expression = input('enter choice:')\n",
    "\n",
    "if(expression =='1'):\n",
    "    add = a1 + a2\n",
    "    print(a1,'+',a2,'=',add) \n",
    "elif(expression == '2'):\n",
    "    sub = a1-a2\n",
    "    print(a1,'-',a2,'=',sub)\n",
    "elif(expression == '3'):\n",
    "    mul = a1*a2\n",
    "    print(a1,'*',a2,'=',mul)\n",
    "elif(expression == '4'):\n",
    "    div = a1/a2\n",
    "    print(a1,'/',a2,'=',div)\n",
    "        \n",
    "\n",
    "    \n",
    "\n",
    "    \n"
   ]
  },
  {
   "cell_type": "code",
   "execution_count": null,
   "id": "44c12ba2",
   "metadata": {},
   "outputs": [],
   "source": []
  }
 ],
 "metadata": {
  "kernelspec": {
   "display_name": "Python 3",
   "language": "python",
   "name": "python3"
  },
  "language_info": {
   "codemirror_mode": {
    "name": "ipython",
    "version": 3
   },
   "file_extension": ".py",
   "mimetype": "text/x-python",
   "name": "python",
   "nbconvert_exporter": "python",
   "pygments_lexer": "ipython3",
   "version": "3.8.8"
  }
 },
 "nbformat": 4,
 "nbformat_minor": 5
}
